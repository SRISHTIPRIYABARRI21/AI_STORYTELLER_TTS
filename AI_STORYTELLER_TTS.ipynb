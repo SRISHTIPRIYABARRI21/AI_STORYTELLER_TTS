{
  "nbformat": 4,
  "nbformat_minor": 0,
  "metadata": {
    "colab": {
      "private_outputs": true,
      "provenance": []
    },
    "kernelspec": {
      "name": "python3",
      "display_name": "Python 3"
    },
    "language_info": {
      "name": "python"
    }
  },
  "cells": [
    {
      "cell_type": "code",
      "source": [
        "!pip install gradio edge-tts"
      ],
      "metadata": {
        "id": "ckCtIl9SqK0X"
      },
      "execution_count": null,
      "outputs": []
    },
    {
      "cell_type": "code",
      "execution_count": null,
      "metadata": {
        "id": "3neZIEQLqBAs"
      },
      "outputs": [],
      "source": [
        "import gradio as gr\n",
        "import requests\n",
        "import edge_tts\n",
        "import tempfile\n",
        "import asyncio\n",
        "\n",
        "# ========= CONFIGURATION =========\n",
        "GROQ_API_KEY = \"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\"\n",
        "MODEL_NAME = \"llama3-70b-8192\"\n",
        "\n",
        "ENGLISH_SPEAKERS = {\n",
        "    \"Jenny\": \"en-US-JennyNeural\",\n",
        "    \"Guy\": \"en-US-GuyNeural\",\n",
        "    \"Aria\": \"en-US-AriaNeural\"\n",
        "}\n",
        "\n",
        "# ========= STORY GENERATION =========\n",
        "def generate_story(plot: str):\n",
        "    headers = {\n",
        "        \"Authorization\": f\"Bearer {GROQ_API_KEY}\",\n",
        "        \"Content-Type\": \"application/json\"\n",
        "    }\n",
        "\n",
        "    data = {\n",
        "        \"model\": MODEL_NAME,\n",
        "        \"messages\": [\n",
        "            {\"role\": \"system\", \"content\": \"You are a master storyteller. Create vivid, imaginative, emotional, and captivating stories.\"},\n",
        "            {\"role\": \"user\", \"content\": f\"Write a detailed story based on this plot: {plot}\"}\n",
        "        ],\n",
        "        \"temperature\": 0.9,\n",
        "        \"max_tokens\": 1500\n",
        "    }\n",
        "\n",
        "    response = requests.post(\"https://api.groq.com/openai/v1/chat/completions\", headers=headers, json=data)\n",
        "    response.raise_for_status()\n",
        "    return response.json()[\"choices\"][0][\"message\"][\"content\"]\n",
        "\n",
        "# ========= TEXT TO SPEECH =========\n",
        "async def edge_tts_async(text, voice):\n",
        "    communicate = edge_tts.Communicate(text, voice)\n",
        "    with tempfile.NamedTemporaryFile(delete=False, suffix=\".mp3\") as tmp_file:\n",
        "        await communicate.save(tmp_file.name)\n",
        "        return tmp_file.name\n",
        "\n",
        "def generate_story_and_audio(plot, speaker_name):\n",
        "    voice = ENGLISH_SPEAKERS[speaker_name]\n",
        "    story = generate_story(plot)\n",
        "    audio_path = asyncio.run(edge_tts_async(story, voice))\n",
        "    return story, audio_path\n",
        "\n",
        "# ========= UI =========\n",
        "with gr.Blocks(title=\"AI Storyteller\") as demo:\n",
        "    gr.Markdown(\"# ✨ LoreLoom – Weaves tales of old and new, just like a magical loom \")\n",
        "    gr.Markdown(\"From a simple plot to a spellbinding story – hear your dreams come alive!\")\n",
        "\n",
        "    with gr.Row():\n",
        "        with gr.Column():\n",
        "            plot = gr.Textbox(label=\"Enter Your Plot\", placeholder=\"e.g. A child finds a dragon egg in their backyard...\", lines=5)\n",
        "            speaker = gr.Dropdown(choices=list(ENGLISH_SPEAKERS.keys()), value=\"Jenny\", label=\"Choose Voice\")\n",
        "            generate_btn = gr.Button(\"Generate Story & Narration 🎙️\")\n",
        "        with gr.Column():\n",
        "            story_output = gr.Textbox(label=\"🧚‍♀️ The Fantasy You Wrote\", lines=12, interactive=False)\n",
        "            audio_output = gr.Audio(label=\"🔮 Narration from the LoomaRealm\", type=\"filepath\")\n",
        "\n",
        "    gr.Examples(\n",
        "        examples=[\n",
        "            [\"A young inventor builds a time machine in their garage.\", \"Aria\"],\n",
        "            [\"An astronaut gets stranded on an alien planet full of surprises.\", \"Guy\"],\n",
        "            [\"A talking cat leads a girl on a magical treasure hunt.\", \"Jenny\"]\n",
        "        ],\n",
        "        inputs=[plot, speaker],\n",
        "        label=\"Example Prompts\"\n",
        "    )\n",
        "\n",
        "    generate_btn.click(fn=generate_story_and_audio, inputs=[plot, speaker], outputs=[story_output, audio_output])\n",
        "\n",
        "demo.launch()"
      ]
    }
  ]
}